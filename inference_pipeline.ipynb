{
 "cells": [
  {
   "cell_type": "markdown",
   "metadata": {},
   "source": [
    "# Load data"
   ]
  },
  {
   "cell_type": "code",
   "execution_count": 1,
   "metadata": {},
   "outputs": [
    {
     "name": "stderr",
     "output_type": "stream",
     "text": [
      "/Users/edward.nagy/university/id2223-project/.conda/lib/python3.11/site-packages/tqdm/auto.py:21: TqdmWarning: IProgress not found. Please update jupyter and ipywidgets. See https://ipywidgets.readthedocs.io/en/stable/user_install.html\n",
      "  from .autonotebook import tqdm as notebook_tqdm\n"
     ]
    },
    {
     "name": "stdout",
     "output_type": "stream",
     "text": [
      "Connected. Call `.close()` to terminate connection gracefully.\n",
      "\n",
      "Logged in to project, explore it here https://c.app.hopsworks.ai:443/p/196758\n",
      "Connected. Call `.close()` to terminate connection gracefully.\n"
     ]
    }
   ],
   "source": [
    "import hopsworks\n",
    "\n",
    "project = hopsworks.login()\n",
    "fs = project.get_feature_store()"
   ]
  },
  {
   "cell_type": "markdown",
   "metadata": {},
   "source": [
    "## Load clustered papers"
   ]
  },
  {
   "cell_type": "code",
   "execution_count": 2,
   "metadata": {},
   "outputs": [
    {
     "name": "stderr",
     "output_type": "stream",
     "text": [
      "DeprecationWarning: ssl.PROTOCOL_TLS is deprecated\n"
     ]
    },
    {
     "name": "stdout",
     "output_type": "stream",
     "text": [
      "Finished: Reading data from Hopsworks, using Hive (5.04s) \n"
     ]
    },
    {
     "data": {
      "text/html": [
       "<div>\n",
       "<style scoped>\n",
       "    .dataframe tbody tr th:only-of-type {\n",
       "        vertical-align: middle;\n",
       "    }\n",
       "\n",
       "    .dataframe tbody tr th {\n",
       "        vertical-align: top;\n",
       "    }\n",
       "\n",
       "    .dataframe thead th {\n",
       "        text-align: right;\n",
       "    }\n",
       "</style>\n",
       "<table border=\"1\" class=\"dataframe\">\n",
       "  <thead>\n",
       "    <tr style=\"text-align: right;\">\n",
       "      <th></th>\n",
       "      <th>citation</th>\n",
       "      <th>abstract</th>\n",
       "      <th>publication_date</th>\n",
       "      <th>abstract_clean</th>\n",
       "      <th>cluster</th>\n",
       "      <th>x_coord</th>\n",
       "      <th>y_coord</th>\n",
       "    </tr>\n",
       "  </thead>\n",
       "  <tbody>\n",
       "    <tr>\n",
       "      <th>0</th>\n",
       "      <td>@article{10.1016/j.neucom.2023.01.006,\\nauthor...</td>\n",
       "      <td>A growing worldwide consensus agrees that a gl...</td>\n",
       "      <td>2023-03-14</td>\n",
       "      <td>growing worldwide consensus agrees global ener...</td>\n",
       "      <td>2</td>\n",
       "      <td>26.580717</td>\n",
       "      <td>-23.146490</td>\n",
       "    </tr>\n",
       "    <tr>\n",
       "      <th>1</th>\n",
       "      <td>@article{10.1016/j.knosys.2023.110323,\\nauthor...</td>\n",
       "      <td>Cross-domain arrhythmia classification (CAC) a...</td>\n",
       "      <td>2023-03-15</td>\n",
       "      <td>cross domain arrhythmia cac aims transfer suff...</td>\n",
       "      <td>1</td>\n",
       "      <td>-14.391303</td>\n",
       "      <td>-13.226600</td>\n",
       "    </tr>\n",
       "    <tr>\n",
       "      <th>2</th>\n",
       "      <td>@inproceedings{10.1145/3608298.3608302,\\nautho...</td>\n",
       "      <td>The use of functional magnetic resonance imagi...</td>\n",
       "      <td>2023-10-18</td>\n",
       "      <td>use functional magnetic resonance imaging fmri...</td>\n",
       "      <td>0</td>\n",
       "      <td>7.290242</td>\n",
       "      <td>12.193990</td>\n",
       "    </tr>\n",
       "    <tr>\n",
       "      <th>3</th>\n",
       "      <td>@article{10.1016/j.advengsoft.2022.103354,\\nau...</td>\n",
       "      <td>Highlights\\n•\\nThe highlights of the article a...</td>\n",
       "      <td>2023-02-01</td>\n",
       "      <td>highlights • highlights article given kind per...</td>\n",
       "      <td>2</td>\n",
       "      <td>-0.356899</td>\n",
       "      <td>19.317638</td>\n",
       "    </tr>\n",
       "    <tr>\n",
       "      <th>4</th>\n",
       "      <td>@article{10.1016/j.neunet.2022.11.006,\\nauthor...</td>\n",
       "      <td>Gated spiking neural P (GSNP) model is a recen...</td>\n",
       "      <td>2023-01-01</td>\n",
       "      <td>gated spiking neural p gsnp recently developed...</td>\n",
       "      <td>7</td>\n",
       "      <td>5.531752</td>\n",
       "      <td>-16.695017</td>\n",
       "    </tr>\n",
       "    <tr>\n",
       "      <th>...</th>\n",
       "      <td>...</td>\n",
       "      <td>...</td>\n",
       "      <td>...</td>\n",
       "      <td>...</td>\n",
       "      <td>...</td>\n",
       "      <td>...</td>\n",
       "      <td>...</td>\n",
       "    </tr>\n",
       "    <tr>\n",
       "      <th>953</th>\n",
       "      <td>@article{10.1016/j.compeleceng.2023.108604,\\na...</td>\n",
       "      <td>Highlights\\n•\\nA new proposed algorithm for mu...</td>\n",
       "      <td>2023-03-01</td>\n",
       "      <td>highlights • new proposed multi recognition st...</td>\n",
       "      <td>6</td>\n",
       "      <td>2.876340</td>\n",
       "      <td>8.250215</td>\n",
       "    </tr>\n",
       "    <tr>\n",
       "      <th>954</th>\n",
       "      <td>@inproceedings{10.1145/3573942.3573954,\\nautho...</td>\n",
       "      <td>Ensembling is a popular and effective method f...</td>\n",
       "      <td>2023-05-16</td>\n",
       "      <td>ensembling popular effective improving ml prov...</td>\n",
       "      <td>5</td>\n",
       "      <td>-4.027958</td>\n",
       "      <td>23.535185</td>\n",
       "    </tr>\n",
       "    <tr>\n",
       "      <th>955</th>\n",
       "      <td>@inproceedings{10.1145/3571560.3571565,\\nautho...</td>\n",
       "      <td>Higher cognitive process efforts may result in...</td>\n",
       "      <td>2023-01-12</td>\n",
       "      <td>higher cognitive process efforts result mental...</td>\n",
       "      <td>5</td>\n",
       "      <td>8.739161</td>\n",
       "      <td>12.246270</td>\n",
       "    </tr>\n",
       "    <tr>\n",
       "      <th>956</th>\n",
       "      <td>@article{10.1016/j.eswa.2022.119231,\\nauthor =...</td>\n",
       "      <td>Approval of credit application is one of the c...</td>\n",
       "      <td>2023-04-01</td>\n",
       "      <td>approval credit application censorious busines...</td>\n",
       "      <td>2</td>\n",
       "      <td>25.051405</td>\n",
       "      <td>6.780630</td>\n",
       "    </tr>\n",
       "    <tr>\n",
       "      <th>957</th>\n",
       "      <td>@inproceedings{10.1007/978-3-319-11740-9_20,\\n...</td>\n",
       "      <td>Classification is an important issue in data m...</td>\n",
       "      <td>2023-02-13</td>\n",
       "      <td>important issue mining knowledge discovery att...</td>\n",
       "      <td>3</td>\n",
       "      <td>-1.227623</td>\n",
       "      <td>-6.579634</td>\n",
       "    </tr>\n",
       "  </tbody>\n",
       "</table>\n",
       "<p>958 rows × 7 columns</p>\n",
       "</div>"
      ],
      "text/plain": [
       "                                              citation  \\\n",
       "0    @article{10.1016/j.neucom.2023.01.006,\\nauthor...   \n",
       "1    @article{10.1016/j.knosys.2023.110323,\\nauthor...   \n",
       "2    @inproceedings{10.1145/3608298.3608302,\\nautho...   \n",
       "3    @article{10.1016/j.advengsoft.2022.103354,\\nau...   \n",
       "4    @article{10.1016/j.neunet.2022.11.006,\\nauthor...   \n",
       "..                                                 ...   \n",
       "953  @article{10.1016/j.compeleceng.2023.108604,\\na...   \n",
       "954  @inproceedings{10.1145/3573942.3573954,\\nautho...   \n",
       "955  @inproceedings{10.1145/3571560.3571565,\\nautho...   \n",
       "956  @article{10.1016/j.eswa.2022.119231,\\nauthor =...   \n",
       "957  @inproceedings{10.1007/978-3-319-11740-9_20,\\n...   \n",
       "\n",
       "                                              abstract publication_date  \\\n",
       "0    A growing worldwide consensus agrees that a gl...       2023-03-14   \n",
       "1    Cross-domain arrhythmia classification (CAC) a...       2023-03-15   \n",
       "2    The use of functional magnetic resonance imagi...       2023-10-18   \n",
       "3    Highlights\\n•\\nThe highlights of the article a...       2023-02-01   \n",
       "4    Gated spiking neural P (GSNP) model is a recen...       2023-01-01   \n",
       "..                                                 ...              ...   \n",
       "953  Highlights\\n•\\nA new proposed algorithm for mu...       2023-03-01   \n",
       "954  Ensembling is a popular and effective method f...       2023-05-16   \n",
       "955  Higher cognitive process efforts may result in...       2023-01-12   \n",
       "956  Approval of credit application is one of the c...       2023-04-01   \n",
       "957  Classification is an important issue in data m...       2023-02-13   \n",
       "\n",
       "                                        abstract_clean  cluster    x_coord  \\\n",
       "0    growing worldwide consensus agrees global ener...        2  26.580717   \n",
       "1    cross domain arrhythmia cac aims transfer suff...        1 -14.391303   \n",
       "2    use functional magnetic resonance imaging fmri...        0   7.290242   \n",
       "3    highlights • highlights article given kind per...        2  -0.356899   \n",
       "4    gated spiking neural p gsnp recently developed...        7   5.531752   \n",
       "..                                                 ...      ...        ...   \n",
       "953  highlights • new proposed multi recognition st...        6   2.876340   \n",
       "954  ensembling popular effective improving ml prov...        5  -4.027958   \n",
       "955  higher cognitive process efforts result mental...        5   8.739161   \n",
       "956  approval credit application censorious busines...        2  25.051405   \n",
       "957  important issue mining knowledge discovery att...        3  -1.227623   \n",
       "\n",
       "       y_coord  \n",
       "0   -23.146490  \n",
       "1   -13.226600  \n",
       "2    12.193990  \n",
       "3    19.317638  \n",
       "4   -16.695017  \n",
       "..         ...  \n",
       "953   8.250215  \n",
       "954  23.535185  \n",
       "955  12.246270  \n",
       "956   6.780630  \n",
       "957  -6.579634  \n",
       "\n",
       "[958 rows x 7 columns]"
      ]
     },
     "execution_count": 2,
     "metadata": {},
     "output_type": "execute_result"
    }
   ],
   "source": [
    "clustered_fg = fs.get_feature_group(\"acm_papers_clustered_last_year\", 1)\n",
    "papers_df = clustered_fg.read(read_options={\"use_hive\": True})\n",
    "papers_df"
   ]
  },
  {
   "cell_type": "markdown",
   "metadata": {},
   "source": [
    "### Parse citation to extract title and authors"
   ]
  },
  {
   "cell_type": "code",
   "execution_count": 3,
   "metadata": {},
   "outputs": [
    {
     "name": "stdout",
     "output_type": "stream",
     "text": [
      "<class 'pandas.core.frame.DataFrame'>\n",
      "RangeIndex: 958 entries, 0 to 957\n",
      "Data columns (total 9 columns):\n",
      " #   Column            Non-Null Count  Dtype  \n",
      "---  ------            --------------  -----  \n",
      " 0   citation          958 non-null    object \n",
      " 1   abstract          958 non-null    object \n",
      " 2   publication_date  958 non-null    object \n",
      " 3   abstract_clean    958 non-null    object \n",
      " 4   cluster           958 non-null    int64  \n",
      " 5   x_coord           958 non-null    float64\n",
      " 6   y_coord           958 non-null    float64\n",
      " 7   title             956 non-null    object \n",
      " 8   author            834 non-null    object \n",
      "dtypes: float64(2), int64(1), object(6)\n",
      "memory usage: 67.5+ KB\n"
     ]
    }
   ],
   "source": [
    "import re\n",
    "\n",
    "\n",
    "def extract_bibtex_field(bibtex_string, field):\n",
    "    # Define the regular expression pattern for the specified field\n",
    "    pattern = re.compile(rf\"{field}\\s*=\\s*{{([^{{}}]*)}}\", re.IGNORECASE)\n",
    "\n",
    "    # Search for matches in the BibTeX string\n",
    "    match = pattern.search(bibtex_string)\n",
    "\n",
    "    # Extract the field value if a match is found\n",
    "    value = match.group(1) if match else None\n",
    "\n",
    "    return value\n",
    "\n",
    "\n",
    "papers_df[\"title\"] = papers_df[\"citation\"].apply(\n",
    "    lambda x: extract_bibtex_field(x, \"title\")\n",
    ")\n",
    "papers_df[\"author\"] = papers_df[\"citation\"].apply(\n",
    "    lambda x: extract_bibtex_field(x, \"author\")\n",
    ")\n",
    "papers_df.info()"
   ]
  },
  {
   "cell_type": "markdown",
   "metadata": {},
   "source": [
    "## Load cluster topics"
   ]
  },
  {
   "cell_type": "code",
   "execution_count": 4,
   "metadata": {},
   "outputs": [
    {
     "name": "stderr",
     "output_type": "stream",
     "text": [
      "DeprecationWarning: ssl.PROTOCOL_TLS is deprecated\n"
     ]
    },
    {
     "name": "stdout",
     "output_type": "stream",
     "text": [
      "Finished: Reading data from Hopsworks, using Hive (1.37s) \n"
     ]
    },
    {
     "data": {
      "text/plain": [
       "['conclusion, signal, signals, processing, classify, section, skip, proposed, objective, extraction, background, different, research, algorithms, random',\n",
       " 'domains, source, adaptation, time, distribution, challenge, unsupervised, compared, generalization, framework, different, use, multiple, pseudo, information, art, knowledge',\n",
       " 'proposed, selection, support, svm, rule, traffic, new, time, different, problem, ensemble, non, clients, recognition, level, credit, examples, early, research, shot, adversarial, software, novel, shape, attributes, number, knowledge, defined',\n",
       " 'graph, risk, decision, instances, domain, proposed, improvement, node, graphs, trees, making, decisions, pooling, unknown, probability, long, uncertainty, open, bayesian, function, semi, layer, estimation, level, different, parameters, multi, dependencies, identification, including, second, available',\n",
       " 'deep, cnn, images, level, multi, proposed, wise, image, instance, different, attention, information, diagnosis, architectures, number, scores, input, resolution, plays, focus, predictions',\n",
       " 'recognition, svm, neural, human, different, channel, social, research, study, related, proposed, time, emotion, mfcc, health, series, communication, temporal, ensemble, voting, crop, plant, leaf, facial, properties, line, random',\n",
       " 'deep, fraud, framework, information, real, systems, representation, online, proposed, score, credit, card, efficient, end, existing, high, detect, transactions, space, novel, detection, challenges, patterns, applications, transaction, works, technique, uses',\n",
       " 'text, information, language, sentiment, semantic, attention, time, analysis, product, layer, novel, research, news, aspect, corpus, way, uses, sentence, categories, widely, conducted',\n",
       " 'diagnosis, clinical, ensemble, proposed, techniques, deep, images, nearest, study, decision, research, selection, breast, random, forest, vector, evaluation, improve, bayes, stage, compared, classifying',\n",
       " 'multi, information, meta, detection, tasks, selection, face, proposed, fusion, confidence, order, view, noisy, relevant, graph, object, deep, local, single, instance, small, stage',\n",
       " 'decision, different, attributes, groups, evaluate, new, bias, use, problem, high, making, best, investigate, fair, work, fairness, approaches, multi']"
      ]
     },
     "execution_count": 4,
     "metadata": {},
     "output_type": "execute_result"
    }
   ],
   "source": [
    "keywords_fg = fs.get_feature_group(\"acm_papers_cluster_keywords_last_year\", 1)\n",
    "keywords_df = keywords_fg.read(read_options={\"use_hive\": True})\n",
    "# sort by cluster\n",
    "keywords_df.sort_values(by=[\"cluster\"], inplace=True)\n",
    "topics = keywords_df[\"keywords\"].values.tolist()\n",
    "topics"
   ]
  },
  {
   "cell_type": "markdown",
   "metadata": {},
   "source": [
    "# Plot the clustered data"
   ]
  },
  {
   "cell_type": "code",
   "execution_count": 5,
   "metadata": {},
   "outputs": [
    {
     "name": "stderr",
     "output_type": "stream",
     "text": [
      "DeprecationWarning: `np.bool8` is a deprecated alias for `np.bool_`.  (Deprecated NumPy 1.24)\n",
      "DeprecationWarning: 'jinja2.Markup' is deprecated and will be removed in Jinja 3.1. Import 'markupsafe.Markup' instead.\n"
     ]
    },
    {
     "data": {
      "text/html": [
       "\n",
       "    <div class=\"bk-root\">\n",
       "        <a href=\"https://bokeh.org\" target=\"_blank\" class=\"bk-logo bk-logo-small bk-logo-notebook\"></a>\n",
       "        <span id=\"1001\">Loading BokehJS ...</span>\n",
       "    </div>"
      ]
     },
     "metadata": {},
     "output_type": "display_data"
    },
    {
     "data": {
      "application/javascript": "\n(function(root) {\n  function now() {\n    return new Date();\n  }\n\n  var force = true;\n\n  if (typeof root._bokeh_onload_callbacks === \"undefined\" || force === true) {\n    root._bokeh_onload_callbacks = [];\n    root._bokeh_is_loading = undefined;\n  }\n\n  var JS_MIME_TYPE = 'application/javascript';\n  var HTML_MIME_TYPE = 'text/html';\n  var EXEC_MIME_TYPE = 'application/vnd.bokehjs_exec.v0+json';\n  var CLASS_NAME = 'output_bokeh rendered_html';\n\n  /**\n   * Render data to the DOM node\n   */\n  function render(props, node) {\n    var script = document.createElement(\"script\");\n    node.appendChild(script);\n  }\n\n  /**\n   * Handle when an output is cleared or removed\n   */\n  function handleClearOutput(event, handle) {\n    var cell = handle.cell;\n\n    var id = cell.output_area._bokeh_element_id;\n    var server_id = cell.output_area._bokeh_server_id;\n    // Clean up Bokeh references\n    if (id != null && id in Bokeh.index) {\n      Bokeh.index[id].model.document.clear();\n      delete Bokeh.index[id];\n    }\n\n    if (server_id !== undefined) {\n      // Clean up Bokeh references\n      var cmd = \"from bokeh.io.state import curstate; print(curstate().uuid_to_server['\" + server_id + \"'].get_sessions()[0].document.roots[0]._id)\";\n      cell.notebook.kernel.execute(cmd, {\n        iopub: {\n          output: function(msg) {\n            var id = msg.content.text.trim();\n            if (id in Bokeh.index) {\n              Bokeh.index[id].model.document.clear();\n              delete Bokeh.index[id];\n            }\n          }\n        }\n      });\n      // Destroy server and session\n      var cmd = \"import bokeh.io.notebook as ion; ion.destroy_server('\" + server_id + \"')\";\n      cell.notebook.kernel.execute(cmd);\n    }\n  }\n\n  /**\n   * Handle when a new output is added\n   */\n  function handleAddOutput(event, handle) {\n    var output_area = handle.output_area;\n    var output = handle.output;\n\n    // limit handleAddOutput to display_data with EXEC_MIME_TYPE content only\n    if ((output.output_type != \"display_data\") || (!output.data.hasOwnProperty(EXEC_MIME_TYPE))) {\n      return\n    }\n\n    var toinsert = output_area.element.find(\".\" + CLASS_NAME.split(' ')[0]);\n\n    if (output.metadata[EXEC_MIME_TYPE][\"id\"] !== undefined) {\n      toinsert[toinsert.length - 1].firstChild.textContent = output.data[JS_MIME_TYPE];\n      // store reference to embed id on output_area\n      output_area._bokeh_element_id = output.metadata[EXEC_MIME_TYPE][\"id\"];\n    }\n    if (output.metadata[EXEC_MIME_TYPE][\"server_id\"] !== undefined) {\n      var bk_div = document.createElement(\"div\");\n      bk_div.innerHTML = output.data[HTML_MIME_TYPE];\n      var script_attrs = bk_div.children[0].attributes;\n      for (var i = 0; i < script_attrs.length; i++) {\n        toinsert[toinsert.length - 1].firstChild.setAttribute(script_attrs[i].name, script_attrs[i].value);\n      }\n      // store reference to server id on output_area\n      output_area._bokeh_server_id = output.metadata[EXEC_MIME_TYPE][\"server_id\"];\n    }\n  }\n\n  function register_renderer(events, OutputArea) {\n\n    function append_mime(data, metadata, element) {\n      // create a DOM node to render to\n      var toinsert = this.create_output_subarea(\n        metadata,\n        CLASS_NAME,\n        EXEC_MIME_TYPE\n      );\n      this.keyboard_manager.register_events(toinsert);\n      // Render to node\n      var props = {data: data, metadata: metadata[EXEC_MIME_TYPE]};\n      render(props, toinsert[toinsert.length - 1]);\n      element.append(toinsert);\n      return toinsert\n    }\n\n    /* Handle when an output is cleared or removed */\n    events.on('clear_output.CodeCell', handleClearOutput);\n    events.on('delete.Cell', handleClearOutput);\n\n    /* Handle when a new output is added */\n    events.on('output_added.OutputArea', handleAddOutput);\n\n    /**\n     * Register the mime type and append_mime function with output_area\n     */\n    OutputArea.prototype.register_mime_type(EXEC_MIME_TYPE, append_mime, {\n      /* Is output safe? */\n      safe: true,\n      /* Index of renderer in `output_area.display_order` */\n      index: 0\n    });\n  }\n\n  // register the mime type if in Jupyter Notebook environment and previously unregistered\n  if (root.Jupyter !== undefined) {\n    var events = require('base/js/events');\n    var OutputArea = require('notebook/js/outputarea').OutputArea;\n\n    if (OutputArea.prototype.mime_types().indexOf(EXEC_MIME_TYPE) == -1) {\n      register_renderer(events, OutputArea);\n    }\n  }\n\n  \n  if (typeof (root._bokeh_timeout) === \"undefined\" || force === true) {\n    root._bokeh_timeout = Date.now() + 5000;\n    root._bokeh_failed_load = false;\n  }\n\n  var NB_LOAD_WARNING = {'data': {'text/html':\n     \"<div style='background-color: #fdd'>\\n\"+\n     \"<p>\\n\"+\n     \"BokehJS does not appear to have successfully loaded. If loading BokehJS from CDN, this \\n\"+\n     \"may be due to a slow or bad network connection. Possible fixes:\\n\"+\n     \"</p>\\n\"+\n     \"<ul>\\n\"+\n     \"<li>re-rerun `output_notebook()` to attempt to load from CDN again, or</li>\\n\"+\n     \"<li>use INLINE resources instead, as so:</li>\\n\"+\n     \"</ul>\\n\"+\n     \"<code>\\n\"+\n     \"from bokeh.resources import INLINE\\n\"+\n     \"output_notebook(resources=INLINE)\\n\"+\n     \"</code>\\n\"+\n     \"</div>\"}};\n\n  function display_loaded() {\n    var el = document.getElementById(\"1001\");\n    if (el != null) {\n      el.textContent = \"BokehJS is loading...\";\n    }\n    if (root.Bokeh !== undefined) {\n      if (el != null) {\n        el.textContent = \"BokehJS \" + root.Bokeh.version + \" successfully loaded.\";\n      }\n    } else if (Date.now() < root._bokeh_timeout) {\n      setTimeout(display_loaded, 100)\n    }\n  }\n\n\n  function run_callbacks() {\n    try {\n      root._bokeh_onload_callbacks.forEach(function(callback) {\n        if (callback != null)\n          callback();\n      });\n    } finally {\n      delete root._bokeh_onload_callbacks\n    }\n    console.debug(\"Bokeh: all callbacks have finished\");\n  }\n\n  function load_libs(css_urls, js_urls, callback) {\n    if (css_urls == null) css_urls = [];\n    if (js_urls == null) js_urls = [];\n\n    root._bokeh_onload_callbacks.push(callback);\n    if (root._bokeh_is_loading > 0) {\n      console.debug(\"Bokeh: BokehJS is being loaded, scheduling callback at\", now());\n      return null;\n    }\n    if (js_urls == null || js_urls.length === 0) {\n      run_callbacks();\n      return null;\n    }\n    console.debug(\"Bokeh: BokehJS not loaded, scheduling load and callback at\", now());\n    root._bokeh_is_loading = css_urls.length + js_urls.length;\n\n    function on_load() {\n      root._bokeh_is_loading--;\n      if (root._bokeh_is_loading === 0) {\n        console.debug(\"Bokeh: all BokehJS libraries/stylesheets loaded\");\n        run_callbacks()\n      }\n    }\n\n    function on_error() {\n      console.error(\"failed to load \" + url);\n    }\n\n    for (var i = 0; i < css_urls.length; i++) {\n      var url = css_urls[i];\n      const element = document.createElement(\"link\");\n      element.onload = on_load;\n      element.onerror = on_error;\n      element.rel = \"stylesheet\";\n      element.type = \"text/css\";\n      element.href = url;\n      console.debug(\"Bokeh: injecting link tag for BokehJS stylesheet: \", url);\n      document.body.appendChild(element);\n    }\n\n    for (var i = 0; i < js_urls.length; i++) {\n      var url = js_urls[i];\n      var element = document.createElement('script');\n      element.onload = on_load;\n      element.onerror = on_error;\n      element.async = false;\n      element.src = url;\n      console.debug(\"Bokeh: injecting script tag for BokehJS library: \", url);\n      document.head.appendChild(element);\n    }\n  };var element = document.getElementById(\"1001\");\n  if (element == null) {\n    console.error(\"Bokeh: ERROR: autoload.js configured with elementid '1001' but no matching script tag was found. \")\n    return false;\n  }\n\n  function inject_raw_css(css) {\n    const element = document.createElement(\"style\");\n    element.appendChild(document.createTextNode(css));\n    document.body.appendChild(element);\n  }\n\n  \n  var js_urls = [\"https://cdn.pydata.org/bokeh/release/bokeh-1.4.0.min.js\", \"https://cdn.pydata.org/bokeh/release/bokeh-widgets-1.4.0.min.js\", \"https://cdn.pydata.org/bokeh/release/bokeh-tables-1.4.0.min.js\", \"https://cdn.pydata.org/bokeh/release/bokeh-gl-1.4.0.min.js\"];\n  var css_urls = [];\n  \n\n  var inline_js = [\n    function(Bokeh) {\n      Bokeh.set_log_level(\"info\");\n    },\n    function(Bokeh) {\n    \n    \n    }\n  ];\n\n  function run_inline_js() {\n    \n    if (root.Bokeh !== undefined || force === true) {\n      \n    for (var i = 0; i < inline_js.length; i++) {\n      inline_js[i].call(root, root.Bokeh);\n    }\n    if (force === true) {\n        display_loaded();\n      }} else if (Date.now() < root._bokeh_timeout) {\n      setTimeout(run_inline_js, 100);\n    } else if (!root._bokeh_failed_load) {\n      console.log(\"Bokeh: BokehJS failed to load within specified timeout.\");\n      root._bokeh_failed_load = true;\n    } else if (force !== true) {\n      var cell = $(document.getElementById(\"1001\")).parents('.cell').data().cell;\n      cell.output_area.append_execute_result(NB_LOAD_WARNING)\n    }\n\n  }\n\n  if (root._bokeh_is_loading === 0) {\n    console.debug(\"Bokeh: BokehJS loaded, going straight to plotting\");\n    run_inline_js();\n  } else {\n    load_libs(css_urls, js_urls, function() {\n      console.debug(\"Bokeh: BokehJS plotting callback run at\", now());\n      run_inline_js();\n    });\n  }\n}(window));",
      "application/vnd.bokehjs_load.v0+json": ""
     },
     "metadata": {},
     "output_type": "display_data"
    },
    {
     "name": "stderr",
     "output_type": "stream",
     "text": [
      "BokehDeprecationWarning: 'legend' keyword is deprecated, use explicit 'legend_label', 'legend_field', or 'legend_group' keywords instead\n"
     ]
    }
   ],
   "source": [
    "from bokeh.models import (\n",
    "    ColumnDataSource,\n",
    "    HoverTool,\n",
    "    CustomJS,\n",
    "    Slider,\n",
    "    TapTool,\n",
    "    TextInput,\n",
    ")\n",
    "from bokeh.palettes import Category20\n",
    "from bokeh.transform import linear_cmap\n",
    "from bokeh.io import show, output_notebook\n",
    "from bokeh.plotting import figure\n",
    "from bokeh.models import TextInput, Div, Paragraph\n",
    "from bokeh.layouts import row, layout\n",
    "\n",
    "# show on notebook\n",
    "output_notebook()\n",
    "\n",
    "# data sources\n",
    "source = ColumnDataSource(\n",
    "    data=dict(\n",
    "        x=papers_df[\"x_coord\"],\n",
    "        y=papers_df[\"y_coord\"],\n",
    "        x_backup=papers_df[\"x_coord\"],\n",
    "        y_backup=papers_df[\"y_coord\"],\n",
    "        abstract=papers_df[\"abstract\"],\n",
    "        title=papers_df[\"title\"],\n",
    "        author=papers_df[\"author\"],\n",
    "        publication_date=papers_df[\"publication_date\"],\n",
    "        cluster=papers_df[\"cluster\"],\n",
    "        labels=[\"C-\" + str(x) for x in papers_df[\"cluster\"]],\n",
    "    )\n",
    ")\n",
    "\n",
    "max_cluster_value = papers_df[\"cluster\"].max()\n",
    "min_cluster_value = papers_df[\"cluster\"].min()\n",
    "clusters_count = max_cluster_value - min_cluster_value + 1\n",
    "\n",
    "# hover over information\n",
    "hover = HoverTool(\n",
    "    tooltips=[\n",
    "        (\"Abstract\", \"@abstract{safe}\"),\n",
    "        (\"Publication Date\", \"@publication_date\"),\n",
    "        (\"Title\", \"@title\"),\n",
    "        (\"Author\", \"@author\"),\n",
    "        (\"Cluster\", \"@cluster\"),\n",
    "    ],\n",
    "    point_policy=\"follow_mouse\",\n",
    ")\n",
    "\n",
    "# map colors\n",
    "mapper = linear_cmap(\n",
    "    field_name=\"cluster\",\n",
    "    palette=Category20[clusters_count],\n",
    "    low=min_cluster_value,\n",
    "    high=max_cluster_value,\n",
    ")\n",
    "\n",
    "# prepare the figure\n",
    "plot = figure(\n",
    "    width=500,\n",
    "    height=500,\n",
    "    tools=[hover, \"pan\", \"wheel_zoom\", \"box_zoom\", \"reset\", \"save\", \"tap\"],\n",
    "    title=\"Clustering of the ACM papers on Supervised Learning by Classification\",\n",
    "    toolbar_location=\"above\",\n",
    ")\n",
    "\n",
    "# plot settings\n",
    "plot.scatter(\n",
    "    \"x\",\n",
    "    \"y\",\n",
    "    size=5,\n",
    "    source=source,\n",
    "    fill_color=mapper,\n",
    "    line_alpha=0.3,\n",
    "    line_color=\"black\",\n",
    "    legend=\"labels\",\n",
    ")\n",
    "plot.legend.background_fill_alpha = 0.6"
   ]
  },
  {
   "cell_type": "markdown",
   "metadata": {},
   "source": [
    "### Widgets"
   ]
  },
  {
   "cell_type": "code",
   "execution_count": 6,
   "metadata": {},
   "outputs": [],
   "source": [
    "from plot.callbacks import input_callback, selected_code\n",
    "\n",
    "# Keywords\n",
    "text_banner = Paragraph(\n",
    "    text=\"Keywords: Slide to specific cluster to see the keywords.\", height=25\n",
    ")\n",
    "input_callback_1 = input_callback(plot, source, text_banner, topics)\n",
    "\n",
    "# currently selected article\n",
    "div_curr = Div(text=\"\"\"Click on a plot to see the info about the article.\"\"\", width=150)\n",
    "callback_selected = CustomJS(\n",
    "    args=dict(source=source, current_selection=div_curr), code=selected_code()\n",
    ")\n",
    "tap_tool = plot.select(type=TapTool)\n",
    "tap_tool.callback = callback_selected\n",
    "\n",
    "# WIDGETS\n",
    "slider = Slider(\n",
    "    start=0,\n",
    "    end=clusters_count,\n",
    "    value=clusters_count,\n",
    "    step=1,\n",
    "    title=\"Cluster #\",\n",
    "    callback=input_callback_1,\n",
    ")\n",
    "keyword = TextInput(title=\"Search:\", callback=input_callback_1)\n",
    "\n",
    "# pass call back arguments\n",
    "input_callback_1.args[\"text\"] = keyword\n",
    "input_callback_1.args[\"slider\"] = slider"
   ]
  },
  {
   "cell_type": "markdown",
   "metadata": {},
   "source": [
    "### Style"
   ]
  },
  {
   "cell_type": "code",
   "execution_count": 7,
   "metadata": {},
   "outputs": [],
   "source": [
    "from plot.plot_text import (\n",
    "    header,\n",
    "    description,\n",
    "    description_search,\n",
    "    description_slider,\n",
    ")\n",
    "\n",
    "header.sizing_mode = \"stretch_width\"\n",
    "header.style = {\"color\": \"#2e484c\", \"font-family\": \"Julius Sans One, sans-serif;\"}\n",
    "header.margin = 5\n",
    "\n",
    "description.style = {\n",
    "    \"font-family\": \"Helvetica Neue, Helvetica, Arial, sans-serif;\",\n",
    "    \"font-size\": \"1.1em\",\n",
    "}\n",
    "description.sizing_mode = \"stretch_width\"\n",
    "description.margin = 5\n",
    "\n",
    "description_slider.style = {\n",
    "    \"font-family\": \"Helvetica Neue, Helvetica, Arial, sans-serif;\",\n",
    "    \"font-size\": \"1.1em\",\n",
    "}\n",
    "description_slider.sizing_mode = \"stretch_width\"\n",
    "\n",
    "description_search.style = {\n",
    "    \"font-family\": \"Helvetica Neue, Helvetica, Arial, sans-serif;\",\n",
    "    \"font-size\": \"1.1em\",\n",
    "}\n",
    "description_search.sizing_mode = \"stretch_width\"\n",
    "description_search.margin = 5\n",
    "\n",
    "slider.sizing_mode = \"stretch_width\"\n",
    "slider.margin = 15\n",
    "\n",
    "keyword.sizing_mode = \"scale_both\"\n",
    "keyword.margin = 15\n",
    "\n",
    "div_curr.style = {\n",
    "    \"color\": \"#BF0A30\",\n",
    "    \"font-family\": \"Helvetica Neue, Helvetica, Arial, sans-serif;\",\n",
    "    \"font-size\": \"1.1em\",\n",
    "}\n",
    "div_curr.sizing_mode = \"scale_both\"\n",
    "div_curr.margin = 20\n",
    "\n",
    "text_banner.style = {\n",
    "    \"color\": \"#0269A4\",\n",
    "    \"font-family\": \"Helvetica Neue, Helvetica, Arial, sans-serif;\",\n",
    "    \"font-size\": \"1.1em\",\n",
    "}\n",
    "text_banner.sizing_mode = \"stretch_width\"\n",
    "text_banner.margin = 20\n",
    "text_banner.height = 75\n",
    "\n",
    "plot.sizing_mode = \"scale_both\"\n",
    "plot.margin = 5\n",
    "\n",
    "r = row(div_curr, text_banner)\n",
    "r.sizing_mode = \"stretch_width\""
   ]
  },
  {
   "cell_type": "markdown",
   "metadata": {},
   "source": [
    "### Layout"
   ]
  },
  {
   "cell_type": "code",
   "execution_count": 8,
   "metadata": {},
   "outputs": [
    {
     "name": "stdout",
     "output_type": "stream",
     "text": [
      "2024-01-13 20:47:55,915 INFO: Session output file 'docs/test.html' already exists, will be overwritten.\n"
     ]
    },
    {
     "data": {
      "text/plain": [
       "'/Users/edward.nagy/university/id2223-project/docs/test.html'"
      ]
     },
     "execution_count": 8,
     "metadata": {},
     "output_type": "execute_result"
    }
   ],
   "source": [
    "from bokeh.plotting import output_file, save\n",
    "\n",
    "\n",
    "l = layout(\n",
    "    [\n",
    "        [header],\n",
    "        [description],\n",
    "        [description_slider, description_search],\n",
    "        [slider, keyword],\n",
    "        [text_banner],\n",
    "        [plot],\n",
    "        [div_curr],\n",
    "    ]\n",
    ")\n",
    "output_file('docs/test.html')\n",
    "show(l)"
   ]
  }
 ],
 "metadata": {
  "kernelspec": {
   "display_name": "Python 3",
   "language": "python",
   "name": "python3"
  },
  "language_info": {
   "codemirror_mode": {
    "name": "ipython",
    "version": 3
   },
   "file_extension": ".py",
   "mimetype": "text/x-python",
   "name": "python",
   "nbconvert_exporter": "python",
   "pygments_lexer": "ipython3",
   "version": "3.11.5"
  }
 },
 "nbformat": 4,
 "nbformat_minor": 2
}
